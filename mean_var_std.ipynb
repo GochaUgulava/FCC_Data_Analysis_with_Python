{
 "cells": [
  {
   "cell_type": "raw",
   "metadata": {},
   "source": [
    "Create a function named calculate() in mean_var_std.py that uses Numpy to output the mean, variance, standard deviation, max, min, and sum of the rows, columns, and elements in a 3 x 3 matrix.\n",
    "The input of the function should be a list containing 9 digits. The function should convert the list into a 3 x 3 Numpy array, and then return a dictionary containing the mean, variance, standard deviation, max, min, and sum along both axes and for the flattened matrix.\n",
    "If a list containing less than 9 elements is passed into the function, it should raise a ValueError exception with the message: \"List must contain nine numbers.\" The values in the returned dictionary should be lists and not Numpy arrays."
   ]
  },
  {
   "cell_type": "code",
   "execution_count": 2,
   "metadata": {},
   "outputs": [],
   "source": [
    "import numpy as np\n",
    "\n",
    "def calculate(list):\n",
    "    if len(list) < 9:\n",
    "        raise ValueError('List must contain nine numbers.')\n",
    "    calculations = {}\n",
    "    a = np.array(list)\n",
    "    a_shaped = a.reshape(3,3)\n",
    "\n",
    "    mean_list = [a_shaped.mean(axis=0).tolist(), a_shaped.mean(axis=1).tolist(), a.mean()]\n",
    "    variance_list = [a_shaped.var(axis=0).tolist(), a_shaped.var(axis=1).tolist(), a.var()]\n",
    "    std_list = [a_shaped.std(axis=0).tolist(), a_shaped.std(axis=1).tolist(), a.std()]\n",
    "    max_list = [a_shaped.max(axis=0).tolist(), a_shaped.max(axis=1).tolist(), a.max()]\n",
    "    min_list = [a_shaped.min(axis=0).tolist(), a_shaped.min(axis=1).tolist(), a.min()]\n",
    "    sum_list = [a_shaped.sum(axis=0).tolist(), a_shaped.sum(axis=1).tolist(), a.sum()]\n",
    "    \n",
    "    calculations = {'mean': mean_list, 'variance': variance_list, 'standard deviation': std_list, 'max': max_list, 'min': min_list, 'sum': sum_list}\n",
    " \n",
    "    return calculations"
   ]
  },
  {
   "cell_type": "code",
   "execution_count": 3,
   "metadata": {},
   "outputs": [
    {
     "data": {
      "text/plain": [
       "{'mean': [[3.0, 4.0, 5.0], [1.0, 4.0, 7.0], 4.0],\n",
       " 'variance': [[6.0, 6.0, 6.0],\n",
       "  [0.6666666666666666, 0.6666666666666666, 0.6666666666666666],\n",
       "  6.666666666666667],\n",
       " 'standard deviation': [[2.449489742783178,\n",
       "   2.449489742783178,\n",
       "   2.449489742783178],\n",
       "  [0.816496580927726, 0.816496580927726, 0.816496580927726],\n",
       "  2.581988897471611],\n",
       " 'max': [[6, 7, 8], [2, 5, 8], 8],\n",
       " 'min': [[0, 1, 2], [0, 3, 6], 0],\n",
       " 'sum': [[9, 12, 15], [3, 12, 21], 36]}"
      ]
     },
     "execution_count": 3,
     "metadata": {},
     "output_type": "execute_result"
    }
   ],
   "source": [
    "calculate([0,1,2,3,4,5,6,7,8])\n"
   ]
  }
 ],
 "metadata": {
  "kernelspec": {
   "display_name": "Python 3",
   "language": "python",
   "name": "python3"
  },
  "language_info": {
   "codemirror_mode": {
    "name": "ipython",
    "version": 3
   },
   "file_extension": ".py",
   "mimetype": "text/x-python",
   "name": "python",
   "nbconvert_exporter": "python",
   "pygments_lexer": "ipython3",
   "version": "3.8.5"
  }
 },
 "nbformat": 4,
 "nbformat_minor": 4
}
