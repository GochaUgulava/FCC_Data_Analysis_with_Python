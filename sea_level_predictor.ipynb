{
 "cells": [
  {
   "cell_type": "raw",
   "metadata": {},
   "source": [
    "You will anaylize a dataset of the global average sea level change since 1880. You will use the data to predict the sea level change through year 2050.\n",
    "\n",
    "Use the data to complete the following tasks:\n",
    "\n",
    "Use Pandas to import the data from epa-sea-level.csv.\n",
    "\n",
    "Use matplotlib to create a scatter plot using the \"Year\" column as the x-axis and the \"CSIRO Adjusted \n",
    "Sea Level\" column as the y-axix.\n",
    "\n",
    "Use the linregress function from scipi.stats to get the slope and y-intercept of the line of best fit. \n",
    "\n",
    "Plot the line of best fit over the top of the scatter plot. Make the line go through the year 2050 to predict the sea level rise in 2050.\n",
    "\n",
    "Plot a new line of best fit just using the data from year 2000 through the most recent year in the dataset. Make the line also go through the year 2050 to predict the sea level rise in 2050 if the rate of rise continues as it has since the year 2000.\n",
    "\n",
    "The x label should be \"Year\", the y label should be \"Sea Level (inches)\", and the title should be \"Rise in Sea Level\".\n",
    "\n",
    "Pass test modifying project.toml file to force pandas 1.1.5 version with line: pandas = \"1.1.5\""
   ]
  },
  {
   "cell_type": "code",
   "execution_count": 1,
   "metadata": {},
   "outputs": [],
   "source": [
    "import pandas as pd\n",
    "import matplotlib.pyplot as plt\n",
    "from scipy.stats import linregress\n",
    "\n",
    "def draw_plot():\n",
    "    # Read data from file\n",
    "    df = pd.read_csv('epa-sea-level.csv')\n",
    "    \n",
    "    lr = linregress(df['Year'], df['CSIRO Adjusted Sea Level'])\n",
    "    slope = lr.slope\n",
    "    intercept = lr.intercept\n",
    "    \n",
    "    df_2 = df[df['Year']>=2000]\n",
    "    lr_2 = linregress(df_2['Year'], df_2['CSIRO Adjusted Sea Level'])\n",
    "    slope_2 = lr_2.slope\n",
    "    intercept_2 = lr_2.intercept\n",
    "\n",
    "    # Create scatter plot\n",
    "    fig, ax = plt.subplots()\n",
    "    fig.set_size_inches(12,12)\n",
    "    ax.scatter(df['Year'], df['CSIRO Adjusted Sea Level'], c='green')\n",
    "    \n",
    "    # Create first line of best fit\n",
    "    x = range(1880, 2050)\n",
    "    y = slope * x + intercept\n",
    "    ax.plot(x, y, color='red')\n",
    "\n",
    "    # Create second line of best fit\n",
    "    x_2 = range(2000, 2050)\n",
    "    y_2 = slope_2 * x_2 + intercept_2\n",
    "    ax.plot(x_2, y_2, color='blue')\n",
    "\n",
    "    # Add labels and title\n",
    "    ax.set(title=\"Rise in Sea Level\")\n",
    "    ax.set_xlabel('Year')\n",
    "    ax.set_ylabel('Sea Level (inches)')\n",
    "    \n",
    "    # Save plot and return data for testing (DO NOT MODIFY)\n",
    "    plt.savefig('sea_level_plot.png')\n",
    "    return plt.gca()"
   ]
  },
  {
   "cell_type": "code",
   "execution_count": 2,
   "metadata": {},
   "outputs": [
    {
     "data": {
      "text/html": [
       "<div>\n",
       "<style scoped>\n",
       "    .dataframe tbody tr th:only-of-type {\n",
       "        vertical-align: middle;\n",
       "    }\n",
       "\n",
       "    .dataframe tbody tr th {\n",
       "        vertical-align: top;\n",
       "    }\n",
       "\n",
       "    .dataframe thead th {\n",
       "        text-align: right;\n",
       "    }\n",
       "</style>\n",
       "<table border=\"1\" class=\"dataframe\">\n",
       "  <thead>\n",
       "    <tr style=\"text-align: right;\">\n",
       "      <th></th>\n",
       "      <th>Year</th>\n",
       "      <th>CSIRO Adjusted Sea Level</th>\n",
       "      <th>Lower Error Bound</th>\n",
       "      <th>Upper Error Bound</th>\n",
       "      <th>NOAA Adjusted Sea Level</th>\n",
       "    </tr>\n",
       "  </thead>\n",
       "  <tbody>\n",
       "    <tr>\n",
       "      <th>0</th>\n",
       "      <td>1880</td>\n",
       "      <td>0.000000</td>\n",
       "      <td>-0.952756</td>\n",
       "      <td>0.952756</td>\n",
       "      <td>NaN</td>\n",
       "    </tr>\n",
       "    <tr>\n",
       "      <th>1</th>\n",
       "      <td>1881</td>\n",
       "      <td>0.220472</td>\n",
       "      <td>-0.732283</td>\n",
       "      <td>1.173228</td>\n",
       "      <td>NaN</td>\n",
       "    </tr>\n",
       "    <tr>\n",
       "      <th>2</th>\n",
       "      <td>1882</td>\n",
       "      <td>-0.440945</td>\n",
       "      <td>-1.346457</td>\n",
       "      <td>0.464567</td>\n",
       "      <td>NaN</td>\n",
       "    </tr>\n",
       "    <tr>\n",
       "      <th>3</th>\n",
       "      <td>1883</td>\n",
       "      <td>-0.232283</td>\n",
       "      <td>-1.129921</td>\n",
       "      <td>0.665354</td>\n",
       "      <td>NaN</td>\n",
       "    </tr>\n",
       "    <tr>\n",
       "      <th>4</th>\n",
       "      <td>1884</td>\n",
       "      <td>0.590551</td>\n",
       "      <td>-0.283465</td>\n",
       "      <td>1.464567</td>\n",
       "      <td>NaN</td>\n",
       "    </tr>\n",
       "  </tbody>\n",
       "</table>\n",
       "</div>"
      ],
      "text/plain": [
       "   Year  CSIRO Adjusted Sea Level  Lower Error Bound  Upper Error Bound  \\\n",
       "0  1880                  0.000000          -0.952756           0.952756   \n",
       "1  1881                  0.220472          -0.732283           1.173228   \n",
       "2  1882                 -0.440945          -1.346457           0.464567   \n",
       "3  1883                 -0.232283          -1.129921           0.665354   \n",
       "4  1884                  0.590551          -0.283465           1.464567   \n",
       "\n",
       "   NOAA Adjusted Sea Level  \n",
       "0                      NaN  \n",
       "1                      NaN  \n",
       "2                      NaN  \n",
       "3                      NaN  \n",
       "4                      NaN  "
      ]
     },
     "execution_count": 2,
     "metadata": {},
     "output_type": "execute_result"
    }
   ],
   "source": [
    "df = pd.read_csv('epa-sea-level.csv')\n",
    "df.head()"
   ]
  },
  {
   "cell_type": "code",
   "execution_count": 14,
   "metadata": {},
   "outputs": [
    {
     "name": "stdout",
     "output_type": "stream",
     "text": [
      "slope:  0.06304458401213482\n",
      "intercept:  -119.06594196773983\n",
      "corr:  0.9847571311825853\n",
      "pvalue:  3.788696979107662e-102\n",
      "stderr:  0.000969211871328706\n"
     ]
    }
   ],
   "source": [
    "lr = linregress(df['Year'], df['CSIRO Adjusted Sea Level'])\n",
    "slope = lr.slope\n",
    "intercept = lr.intercept\n",
    "corr = lr.rvalue\n",
    "pvalue = lr.pvalue\n",
    "stderr = lr.stderr\n",
    "print('slope: ', slope)\n",
    "print('intercept: ', intercept)\n",
    "print('corr: ', corr)\n",
    "print('pvalue: ', pvalue)\n",
    "print('stderr: ', stderr)"
   ]
  },
  {
   "cell_type": "code",
   "execution_count": 27,
   "metadata": {},
   "outputs": [
    {
     "name": "stdout",
     "output_type": "stream",
     "text": [
      "slope_2:  0.16642727333186808\n",
      "intercept_2:  -325.79346680596467\n",
      "corr_2:  0.976287571614062\n",
      "pvalue_2:  2.4388064141616947e-09\n",
      "stderr_2:  0.010652933111541106\n"
     ]
    }
   ],
   "source": [
    "df_2 = df[df['Year']>=2000]\n",
    "\n",
    "lr_2 = linregress(df_2['Year'], df_2['CSIRO Adjusted Sea Level'])\n",
    "slope_2 = lr_2.slope\n",
    "intercept_2 = lr_2.intercept\n",
    "corr_2 = lr_2.rvalue\n",
    "pvalue_2 = lr_2.pvalue\n",
    "stderr_2 = lr_2.stderr\n",
    "print('slope_2: ', slope_2)\n",
    "print('intercept_2: ', intercept_2)\n",
    "print('corr_2: ', corr_2)\n",
    "print('pvalue_2: ', pvalue_2)\n",
    "print('stderr_2: ', stderr_2)"
   ]
  },
  {
   "cell_type": "code",
   "execution_count": 32,
   "metadata": {},
   "outputs": [
    {
     "data": {
      "text/plain": [
       "[<matplotlib.lines.Line2D at 0x17f5bc561f0>]"
      ]
     },
     "execution_count": 32,
     "metadata": {},
     "output_type": "execute_result"
    },
    {
     "data": {
      "image/png": "[encoded data removed]",
      "text/plain": [
       "<Figure size 864x864 with 1 Axes>"
      ]
     },
     "metadata": {
      "needs_background": "light"
     },
     "output_type": "display_data"
    }
   ],
   "source": [
    "fig, ax = plt.subplots()\n",
    "fig.set_size_inches(12,12)\n",
    "ax.set(title=\"Rise in Sea Level\")\n",
    "ax.set_xlabel('Year')\n",
    "ax.set_ylabel('Sea Level (inches)')\n",
    "\n",
    "ax.scatter(df['Year'], df['CSIRO Adjusted Sea Level'], c='green')\n",
    "\n",
    "x = range(1880, 2050)\n",
    "y = slope * x + intercept\n",
    "ax.plot(x, y, color='red')\n",
    "\n",
    "x_2 = range(2000, 2050)\n",
    "y_2 = slope_2 * x_2 + intercept_2\n",
    "ax.plot(x_2, y_2, color='blue')"
   ]
  }
 ],
 "metadata": {
  "kernelspec": {
   "display_name": "Python 3",
   "language": "python",
   "name": "python3"
  },
  "language_info": {
   "codemirror_mode": {
    "name": "ipython",
    "version": 3
   },
   "file_extension": ".py",
   "mimetype": "text/x-python",
   "name": "python",
   "nbconvert_exporter": "python",
   "pygments_lexer": "ipython3",
   "version": "3.8.5"
  }
 },
 "nbformat": 4,
 "nbformat_minor": 4
}
